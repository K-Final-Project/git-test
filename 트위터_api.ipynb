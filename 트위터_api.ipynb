{
 "cells": [
  {
   "cell_type": "code",
   "execution_count": null,
   "metadata": {},
   "outputs": [],
   "source": [
    "pip install tweepy"
   ]
  },
  {
   "cell_type": "code",
   "execution_count": 16,
   "metadata": {},
   "outputs": [],
   "source": [
    "consumer_key = \"4GrXCcUcmu58ruKYbsHx8IGV9\"\n",
    "consumer_secret = \"4BfqZw3tXvoleSsN7DGS8vHwkYkT33I3b12yTEnsJDrHayQ4cI\"  \n",
    "access_token = \"1518502194105921536-1endX9k4CZehxjo5BIZephBzzzpWPS\"\n",
    "access_token_secret = \"QTScO7gKTMYCTAAzsSwXLiwbppLzGS2gReD6z0ZTp4Gz8\"\n",
    "client = tweepy.Client(bearer_token='AAAAAAAAAAAAAAAAAAAAAH7JbwEAAAAAH3klu3JQHHbAD5XVnVrMySFI9MM%3DEPSFNrC5WqtAn1YnWz1VwgVFhcmnwKhunuE0v8yhndWGOKCgIi')\n",
    "import tweepy\n",
    "auth = tweepy.OAuth1UserHandler(\n",
    "   consumer_key, consumer_secret, access_token, access_token_secret\n",
    ")\n",
    "auth.set_access_token(access_token, access_token_secret)\n",
    "api = tweepy.API(auth)"
   ]
  },
  {
   "cell_type": "code",
   "execution_count": 17,
   "metadata": {},
   "outputs": [
    {
     "name": "stdout",
     "output_type": "stream",
     "text": [
      "Z17XIVE66J0ZAY8I\n",
      "\n",
      "우중캠핑 추천 전남  칠곡키스방 \n",
      "https://t.co/pFD8o2GaTJ\n",
      "2E5G07H1JB95\n",
      "\n",
      "캠핑느낌 태백조건만남 광주마사지 \n",
      "https://t.co/UPA6fjfdIv\n",
      "HR028N9RI4ZFR6T\n",
      "\n",
      "포항시홈타이 스웨디시 옥천출장마사지 묘서육아소통환영 보톡 강서출장안마 신북면출장마사지 무즐라 풀사롱 낚시캠핑 \n",
      "null\n",
      "D32U6BR7V\n",
      "\n",
      "출장만남  캠핑여행 가슴 강북애인대행 섹트  \n",
      "https://t.co/Kko7s96CPc\n",
      "RT @__ae_gukja: 가라데 하는 여성이랑\n",
      "복싱하는 여성이랑\n",
      "헬스하는 여성이랑\n",
      "특수부대 여성이랑\n",
      "캠핑가서 큰 손으로 작은 가스렌지 돌려 커서 라면 끓여먹고 콘치즈 해먹고 열심히 야채 볶아 먹어보고 감성노래틀고 별 보는 느낌의 먹방 만화를 그리…\n",
      "골프 \n",
      "필라테스 \n",
      "등산 \n",
      "캠핑 \n",
      "섹\n",
      "꿀\n",
      "용돈\n",
      "남자\n",
      "고수익\n",
      "사모님\n",
      "알바\n",
      "여행 \n",
      "가평 \n",
      "L94SNRH4G49 https://t.co/DtzmQje0Od\n",
      "RT @__ae_gukja: 가라데 하는 여성이랑\n",
      "복싱하는 여성이랑\n",
      "헬스하는 여성이랑\n",
      "특수부대 여성이랑\n",
      "캠핑가서 큰 손으로 작은 가스렌지 돌려 커서 라면 끓여먹고 콘치즈 해먹고 열심히 야채 볶아 먹어보고 감성노래틀고 별 보는 느낌의 먹방 만화를 그리…\n",
      "선팔\n",
      "캠핑\n",
      "섹\n",
      "꿀\n",
      "용돈\n",
      "남자\n",
      "고수익\n",
      "사모님\n",
      "알바\n",
      "데일리패션\n",
      "화정\n",
      "나주시\n",
      "서면\n",
      "2TSAN25XH8N1H5 https://t.co/hSsseRKWgj\n",
      "5DPQA09U01FL1\n",
      "\n",
      "지역대화 타임세일 캠핑느낌 글귀 육아 \n",
      "https://t.co/aWDBKmtr0O\n",
      "@chococlouddd @Itsme_bl 재밌겠다!! 우리도 6월되면 캠핑 다녀야지 ㅋㅋ\n"
     ]
    }
   ],
   "source": [
    "keyword = \"캠핑\"\n",
    "tweets = client.search_recent_tweets(query=keyword, max_results=10)\n",
    "\n",
    "for tweet in tweets.data:\n",
    "    print(tweet.text)"
   ]
  },
  {
   "cell_type": "code",
   "execution_count": null,
   "metadata": {},
   "outputs": [],
   "source": []
  }
 ],
 "metadata": {
  "interpreter": {
   "hash": "aecd030d4c8316a52bf122072e28f84bcc79844c2684e041fef2e3f1d9f59078"
  },
  "kernelspec": {
   "display_name": "Python 3.10.1 64-bit",
   "language": "python",
   "name": "python3"
  },
  "language_info": {
   "codemirror_mode": {
    "name": "ipython",
    "version": 3
   },
   "file_extension": ".py",
   "mimetype": "text/x-python",
   "name": "python",
   "nbconvert_exporter": "python",
   "pygments_lexer": "ipython3",
   "version": "3.10.1"
  },
  "orig_nbformat": 4
 },
 "nbformat": 4,
 "nbformat_minor": 2
}
